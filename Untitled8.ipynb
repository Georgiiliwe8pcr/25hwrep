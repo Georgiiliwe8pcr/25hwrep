{
  "nbformat": 4,
  "nbformat_minor": 0,
  "metadata": {
    "colab": {
      "provenance": [],
      "authorship_tag": "ABX9TyMgyLm/7exbWT8oiqIzJ5dJ",
      "include_colab_link": true
    },
    "kernelspec": {
      "name": "python3",
      "display_name": "Python 3"
    },
    "language_info": {
      "name": "python"
    }
  },
  "cells": [
    {
      "cell_type": "markdown",
      "metadata": {
        "id": "view-in-github",
        "colab_type": "text"
      },
      "source": [
        "<a href=\"https://colab.research.google.com/github/Georgiiliwe8pcr/25hwrep/blob/main/Untitled8.ipynb\" target=\"_parent\"><img src=\"https://colab.research.google.com/assets/colab-badge.svg\" alt=\"Open In Colab\"/></a>"
      ]
    },
    {
      "cell_type": "code",
      "execution_count": null,
      "metadata": {
        "colab": {
          "base_uri": "https://localhost:8080/"
        },
        "id": "2Xa8y2fziVte",
        "outputId": "0ea23a30-5dca-4e6e-c708-ea444c110fde"
      },
      "outputs": [
        {
          "output_type": "stream",
          "name": "stdout",
          "text": [
            "Найкращі параметри: {'model__colsample_bytree': 0.8, 'model__learning_rate': 0.1, 'model__max_depth': 7, 'model__n_estimators': 200, 'model__subsample': 1.0}\n",
            "Accuracy: 0.9443099273607748\n",
            "Recall: 0.9409010377119716\n",
            "Precision: 0.956516145632317\n",
            "F1-score: 0.9486443381180223\n"
          ]
        }
      ],
      "source": [
        "import pandas as pd\n",
        "from sklearn.model_selection import GridSearchCV, train_test_split\n",
        "from xgboost import XGBClassifier\n",
        "from sklearn.preprocessing import StandardScaler\n",
        "from sklearn.pipeline import Pipeline\n",
        "from sklearn.metrics import accuracy_score, recall_score, precision_score, f1_score\n",
        "\n",
        "# Завантаження даних\n",
        "data = pd.read_csv(\"internet_service_churn.csv\")\n",
        "\n",
        "# Розділення даних на X та y\n",
        "X = data.drop(columns=[\"id\", \"churn\"])\n",
        "y = data[\"churn\"]\n",
        "\n",
        "# Розділення на тренувальний та тестовий набори\n",
        "X_train, X_test, y_train, y_test = train_test_split(X, y, test_size=0.2, random_state=42)\n",
        "\n",
        "# Побудова конвеєра\n",
        "pipeline = Pipeline([\n",
        "    (\"scaler\", StandardScaler()),  # Нормалізація даних\n",
        "    (\"model\", XGBClassifier(random_state=42, n_jobs=-1))  # XGBoost з паралелізацією\n",
        "])\n",
        "\n",
        "# Гіперпараметри для крос-валідації\n",
        "param_grid = {\n",
        "    \"model__n_estimators\": [100, 200],  # Кількість дерев\n",
        "    \"model__max_depth\": [3, 5, 7],      # Глибина дерев\n",
        "    \"model__learning_rate\": [0.01, 0.1],  # Швидкість навчання\n",
        "    \"model__subsample\": [0.8, 1.0],     # Частка даних для кожного дерева\n",
        "    \"model__colsample_bytree\": [0.8, 1.0]  # Частка ознак для кожного дерева\n",
        "}\n",
        "\n",
        "# GridSearchCV\n",
        "grid_search = GridSearchCV(pipeline, param_grid, cv=5, scoring=\"f1\", n_jobs=-1)  # Паралелізація\n",
        "grid_search.fit(X_train, y_train)\n",
        "\n",
        "# Найкращі параметри\n",
        "print(\"Найкращі параметри:\", grid_search.best_params_)\n",
        "\n",
        "# Оцінка на тестовому наборі\n",
        "best_model = grid_search.best_estimator_\n",
        "y_pred = best_model.predict(X_test)\n",
        "\n",
        "print(\"Accuracy:\", accuracy_score(y_test, y_pred))\n",
        "print(\"Recall:\", recall_score(y_test, y_pred))\n",
        "print(\"Precision:\", precision_score(y_test, y_pred))\n",
        "print(\"F1-score:\", f1_score(y_test, y_pred))"
      ]
    }
  ]
}